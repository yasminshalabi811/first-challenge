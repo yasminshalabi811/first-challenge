{
  "cells": [
    {
      "cell_type": "markdown",
      "metadata": {
        "id": "view-in-github",
        "colab_type": "text"
      },
      "source": [
        "<a href=\"https://colab.research.google.com/github/yasminshalabi811/first-challenge/blob/main/kNNSolution.ipynb\" target=\"_parent\"><img src=\"https://colab.research.google.com/assets/colab-badge.svg\" alt=\"Open In Colab\"/></a>"
      ]
    },
    {
      "cell_type": "markdown",
      "metadata": {
        "id": "Abb7gNvBO0Iy"
      },
      "source": [
        "# k-NN SOLUTION\n",
        "\n",
        "**File:** kNNSolution.ipynb\n",
        "\n",
        "**Course:** Data Science Foundations: Data Mining in Python"
      ]
    },
    {
      "cell_type": "markdown",
      "metadata": {
        "id": "Va0CFJqtO0I4"
      },
      "source": [
        "# CHALLENGE\n",
        "\n",
        "In this challenge, I invite you to do the following:\n",
        "\n",
        "1. Import and prepare the Breast Cancer training and testing datasets.\n",
        "1. Prepare the data.\n",
        "1. Train and optimize the kNN model.\n",
        "1. Plot the accuracy of the parameters.\n",
        "1. Apply the kNN model to the training data.\n",
        "1. Graph the confusion matrix.\n",
        "1. Calculate the overall accuracy of the model on the testing data."
      ]
    },
    {
      "cell_type": "markdown",
      "metadata": {
        "id": "Lf57S-ZCO0I4"
      },
      "source": [
        "# IMPORT LIBRARIES"
      ]
    },
    {
      "cell_type": "code",
      "execution_count": 1,
      "metadata": {
        "id": "QwdXnhi6O0I5"
      },
      "outputs": [],
      "source": [
        "import matplotlib.pyplot as plt                      # For plotting data\n",
        "import seaborn as sns                                # For plotting data\n",
        "import pandas as pd                                  # For dataframes\n",
        "from sklearn.model_selection import GridSearchCV     # For parameter optimization\n",
        "from sklearn.neighbors import KNeighborsClassifier   # For kNN classification\n",
        "from sklearn.metrics import plot_confusion_matrix    # Evaluation measure"
      ]
    },
    {
      "cell_type": "markdown",
      "metadata": {
        "id": "u1I4xXyVO0I6"
      },
      "source": [
        "# LOAD AND PREPARE DATA\n",
        "\n",
        "Many of the datasets for this course come from the Machine Learning Repository at the University of California, Irvine (UCI) at [https://archive.ics.uci.edu/](https://archive.ics.uci.edu/).\n",
        "\n",
        "For this challenge, we'll use the \"Breast Cancer Wisconsin (Original) Data Set,\" which can be found at [https://j.mp/2NsaIlc](https://j.mp/2NsaIlc). To save time, I have already prepared the dataset by doing the following:\n",
        "\n",
        "- Removed the variable `Id`.\n",
        "- Renamed the attribute variables to `X0` through `X8`.\n",
        "- Renamed the variable `class` to `y`.\n",
        "- Converted all attribute variables from categorical to numeric.\n",
        "- Dropped cases with missing values.\n",
        "- Split the data into training (70%) and testing (30%) datasets.\n",
        "\n",
        "This makes it possible to directly load the prepared training and testing datasets below."
      ]
    },
    {
      "cell_type": "markdown",
      "metadata": {
        "id": "Pvk_6RiVO0I7"
      },
      "source": [
        "## Import Data"
      ]
    },
    {
      "cell_type": "code",
      "execution_count": 2,
      "metadata": {
        "id": "VerM8rsgO0I8"
      },
      "outputs": [],
      "source": [
        "# Imports the training data\n",
        "trn = pd.read_csv('BreastCancer_trn.csv')\n",
        "\n",
        "# Separates the attributes X0-X8 into X_trn\n",
        "X_trn = trn.filter(regex='\\d')\n",
        "\n",
        "# Separates the class variable into y_trn\n",
        "y_trn = trn.y\n",
        "\n",
        "# Imports the testing data\n",
        "tst = pd.read_csv('BreastCancer_tst.csv')\n",
        "\n",
        "# Separates the attributes X0-X8 into X_tst\n",
        "X_tst = tst.filter(regex='\\d')\n",
        "\n",
        "# Separates the class variable into y_tst\n",
        "y_tst = tst.y\n",
        "\n",
        "# Class labels\n",
        "diagnosis = ['Benign','Malignant']"
      ]
    },
    {
      "cell_type": "markdown",
      "metadata": {
        "id": "auPDYhqjO0I-"
      },
      "source": [
        "Look at the first few rows of the training data."
      ]
    },
    {
      "cell_type": "code",
      "execution_count": 3,
      "metadata": {
        "colab": {
          "base_uri": "https://localhost:8080/",
          "height": 206
        },
        "id": "zO8VZbI1O0JA",
        "outputId": "d07d371b-039e-4d86-a3cb-7ff261d3ff04"
      },
      "outputs": [
        {
          "output_type": "execute_result",
          "data": {
            "text/plain": [
              "   X0  X1  X2  X3  X4  X5  X6  X7  X8          y\n",
              "0   3   1   1   1   3   2   1   1   1     benign\n",
              "1   5   1   3   1   2   1   2   1   1     benign\n",
              "2   7   5   6  10   4  10   5   3   1  malignant\n",
              "3   1   1   1   3   1   3   1   1   1     benign\n",
              "4   2   1   1   1   3   1   2   1   1     benign"
            ],
            "text/html": [
              "\n",
              "  <div id=\"df-ab0eab30-b26e-436b-a84f-ec02bd18e4f0\">\n",
              "    <div class=\"colab-df-container\">\n",
              "      <div>\n",
              "<style scoped>\n",
              "    .dataframe tbody tr th:only-of-type {\n",
              "        vertical-align: middle;\n",
              "    }\n",
              "\n",
              "    .dataframe tbody tr th {\n",
              "        vertical-align: top;\n",
              "    }\n",
              "\n",
              "    .dataframe thead th {\n",
              "        text-align: right;\n",
              "    }\n",
              "</style>\n",
              "<table border=\"1\" class=\"dataframe\">\n",
              "  <thead>\n",
              "    <tr style=\"text-align: right;\">\n",
              "      <th></th>\n",
              "      <th>X0</th>\n",
              "      <th>X1</th>\n",
              "      <th>X2</th>\n",
              "      <th>X3</th>\n",
              "      <th>X4</th>\n",
              "      <th>X5</th>\n",
              "      <th>X6</th>\n",
              "      <th>X7</th>\n",
              "      <th>X8</th>\n",
              "      <th>y</th>\n",
              "    </tr>\n",
              "  </thead>\n",
              "  <tbody>\n",
              "    <tr>\n",
              "      <th>0</th>\n",
              "      <td>3</td>\n",
              "      <td>1</td>\n",
              "      <td>1</td>\n",
              "      <td>1</td>\n",
              "      <td>3</td>\n",
              "      <td>2</td>\n",
              "      <td>1</td>\n",
              "      <td>1</td>\n",
              "      <td>1</td>\n",
              "      <td>benign</td>\n",
              "    </tr>\n",
              "    <tr>\n",
              "      <th>1</th>\n",
              "      <td>5</td>\n",
              "      <td>1</td>\n",
              "      <td>3</td>\n",
              "      <td>1</td>\n",
              "      <td>2</td>\n",
              "      <td>1</td>\n",
              "      <td>2</td>\n",
              "      <td>1</td>\n",
              "      <td>1</td>\n",
              "      <td>benign</td>\n",
              "    </tr>\n",
              "    <tr>\n",
              "      <th>2</th>\n",
              "      <td>7</td>\n",
              "      <td>5</td>\n",
              "      <td>6</td>\n",
              "      <td>10</td>\n",
              "      <td>4</td>\n",
              "      <td>10</td>\n",
              "      <td>5</td>\n",
              "      <td>3</td>\n",
              "      <td>1</td>\n",
              "      <td>malignant</td>\n",
              "    </tr>\n",
              "    <tr>\n",
              "      <th>3</th>\n",
              "      <td>1</td>\n",
              "      <td>1</td>\n",
              "      <td>1</td>\n",
              "      <td>3</td>\n",
              "      <td>1</td>\n",
              "      <td>3</td>\n",
              "      <td>1</td>\n",
              "      <td>1</td>\n",
              "      <td>1</td>\n",
              "      <td>benign</td>\n",
              "    </tr>\n",
              "    <tr>\n",
              "      <th>4</th>\n",
              "      <td>2</td>\n",
              "      <td>1</td>\n",
              "      <td>1</td>\n",
              "      <td>1</td>\n",
              "      <td>3</td>\n",
              "      <td>1</td>\n",
              "      <td>2</td>\n",
              "      <td>1</td>\n",
              "      <td>1</td>\n",
              "      <td>benign</td>\n",
              "    </tr>\n",
              "  </tbody>\n",
              "</table>\n",
              "</div>\n",
              "      <button class=\"colab-df-convert\" onclick=\"convertToInteractive('df-ab0eab30-b26e-436b-a84f-ec02bd18e4f0')\"\n",
              "              title=\"Convert this dataframe to an interactive table.\"\n",
              "              style=\"display:none;\">\n",
              "        \n",
              "  <svg xmlns=\"http://www.w3.org/2000/svg\" height=\"24px\"viewBox=\"0 0 24 24\"\n",
              "       width=\"24px\">\n",
              "    <path d=\"M0 0h24v24H0V0z\" fill=\"none\"/>\n",
              "    <path d=\"M18.56 5.44l.94 2.06.94-2.06 2.06-.94-2.06-.94-.94-2.06-.94 2.06-2.06.94zm-11 1L8.5 8.5l.94-2.06 2.06-.94-2.06-.94L8.5 2.5l-.94 2.06-2.06.94zm10 10l.94 2.06.94-2.06 2.06-.94-2.06-.94-.94-2.06-.94 2.06-2.06.94z\"/><path d=\"M17.41 7.96l-1.37-1.37c-.4-.4-.92-.59-1.43-.59-.52 0-1.04.2-1.43.59L10.3 9.45l-7.72 7.72c-.78.78-.78 2.05 0 2.83L4 21.41c.39.39.9.59 1.41.59.51 0 1.02-.2 1.41-.59l7.78-7.78 2.81-2.81c.8-.78.8-2.07 0-2.86zM5.41 20L4 18.59l7.72-7.72 1.47 1.35L5.41 20z\"/>\n",
              "  </svg>\n",
              "      </button>\n",
              "      \n",
              "  <style>\n",
              "    .colab-df-container {\n",
              "      display:flex;\n",
              "      flex-wrap:wrap;\n",
              "      gap: 12px;\n",
              "    }\n",
              "\n",
              "    .colab-df-convert {\n",
              "      background-color: #E8F0FE;\n",
              "      border: none;\n",
              "      border-radius: 50%;\n",
              "      cursor: pointer;\n",
              "      display: none;\n",
              "      fill: #1967D2;\n",
              "      height: 32px;\n",
              "      padding: 0 0 0 0;\n",
              "      width: 32px;\n",
              "    }\n",
              "\n",
              "    .colab-df-convert:hover {\n",
              "      background-color: #E2EBFA;\n",
              "      box-shadow: 0px 1px 2px rgba(60, 64, 67, 0.3), 0px 1px 3px 1px rgba(60, 64, 67, 0.15);\n",
              "      fill: #174EA6;\n",
              "    }\n",
              "\n",
              "    [theme=dark] .colab-df-convert {\n",
              "      background-color: #3B4455;\n",
              "      fill: #D2E3FC;\n",
              "    }\n",
              "\n",
              "    [theme=dark] .colab-df-convert:hover {\n",
              "      background-color: #434B5C;\n",
              "      box-shadow: 0px 1px 3px 1px rgba(0, 0, 0, 0.15);\n",
              "      filter: drop-shadow(0px 1px 2px rgba(0, 0, 0, 0.3));\n",
              "      fill: #FFFFFF;\n",
              "    }\n",
              "  </style>\n",
              "\n",
              "      <script>\n",
              "        const buttonEl =\n",
              "          document.querySelector('#df-ab0eab30-b26e-436b-a84f-ec02bd18e4f0 button.colab-df-convert');\n",
              "        buttonEl.style.display =\n",
              "          google.colab.kernel.accessAllowed ? 'block' : 'none';\n",
              "\n",
              "        async function convertToInteractive(key) {\n",
              "          const element = document.querySelector('#df-ab0eab30-b26e-436b-a84f-ec02bd18e4f0');\n",
              "          const dataTable =\n",
              "            await google.colab.kernel.invokeFunction('convertToInteractive',\n",
              "                                                     [key], {});\n",
              "          if (!dataTable) return;\n",
              "\n",
              "          const docLinkHtml = 'Like what you see? Visit the ' +\n",
              "            '<a target=\"_blank\" href=https://colab.research.google.com/notebooks/data_table.ipynb>data table notebook</a>'\n",
              "            + ' to learn more about interactive tables.';\n",
              "          element.innerHTML = '';\n",
              "          dataTable['output_type'] = 'display_data';\n",
              "          await google.colab.output.renderOutput(dataTable, element);\n",
              "          const docLink = document.createElement('div');\n",
              "          docLink.innerHTML = docLinkHtml;\n",
              "          element.appendChild(docLink);\n",
              "        }\n",
              "      </script>\n",
              "    </div>\n",
              "  </div>\n",
              "  "
            ]
          },
          "metadata": {},
          "execution_count": 3
        }
      ],
      "source": [
        "trn.head()"
      ]
    },
    {
      "cell_type": "markdown",
      "metadata": {
        "id": "9iam6SVBO0JA"
      },
      "source": [
        "# kNN: TRAIN MODEL\n",
        "To train a kNN model, set up a `KNeighborsClassifier` object and fit it to training data."
      ]
    },
    {
      "cell_type": "code",
      "execution_count": 4,
      "metadata": {
        "id": "5zqZbrGnO0JB"
      },
      "outputs": [],
      "source": [
        "# Sets up a kNN model and fits it to data\n",
        "knn = KNeighborsClassifier(n_neighbors=5) \\\n",
        "    .fit(X_trn, y_trn)"
      ]
    },
    {
      "cell_type": "markdown",
      "metadata": {
        "id": "N-xusVFgO0JB"
      },
      "source": [
        "## Calculate Mean Accuracy on Training Data"
      ]
    },
    {
      "cell_type": "code",
      "execution_count": 5,
      "metadata": {
        "colab": {
          "base_uri": "https://localhost:8080/"
        },
        "id": "HHnaqjH5O0JC",
        "outputId": "878b60e9-10fb-4356-edbd-9a36cac1097a"
      },
      "outputs": [
        {
          "output_type": "stream",
          "name": "stdout",
          "text": [
            "Accuracy on training data: 97.91%\n"
          ]
        }
      ],
      "source": [
        "print(\n",
        "    'Accuracy on training data: ' \n",
        "    + str(\"{:.2%}\".format(knn.score(X_trn, y_trn))))"
      ]
    },
    {
      "cell_type": "markdown",
      "metadata": {
        "id": "u0v9fZluO0JC"
      },
      "source": [
        "## Optimize the kNN Model\n",
        "The challenge in training a kNN model is to determine the optimal number of neighbors. To find the optimal parameters, `GridSearchCV` object can be used."
      ]
    },
    {
      "cell_type": "code",
      "execution_count": 6,
      "metadata": {
        "colab": {
          "base_uri": "https://localhost:8080/"
        },
        "id": "8CrK4GJFO0JD",
        "outputId": "abb63ef1-ef3c-4013-d49d-102ff176b2f1"
      },
      "outputs": [
        {
          "output_type": "execute_result",
          "data": {
            "text/plain": [
              "{'algorithm': 'auto',\n",
              " 'leaf_size': 30,\n",
              " 'metric': 'minkowski',\n",
              " 'metric_params': None,\n",
              " 'n_jobs': None,\n",
              " 'n_neighbors': 13,\n",
              " 'p': 2,\n",
              " 'weights': 'uniform'}"
            ]
          },
          "metadata": {},
          "execution_count": 6
        }
      ],
      "source": [
        "# Sets up the kNN classifier object\n",
        "knn = KNeighborsClassifier() \n",
        "\n",
        "# Search parameters\n",
        "param = range(3, 15, 2)\n",
        "\n",
        "# Sets up GridSearchCV object and stores it in grid variable\n",
        "grid = GridSearchCV(\n",
        "    knn,\n",
        "    {'n_neighbors': param})\n",
        "\n",
        "# Fits the grid object and gets the best model\n",
        "best_knn = grid \\\n",
        "    .fit(X_trn,y_trn) \\\n",
        "    .best_estimator_\n",
        "\n",
        "# Displays the optimum model\n",
        "best_knn.get_params()"
      ]
    },
    {
      "cell_type": "markdown",
      "metadata": {
        "id": "gdIMz1MxO0JD"
      },
      "source": [
        "## Plot the Accuracy for Various Parameters\n",
        "Once the optimal parameters are found, the accuracy for different parameters can be compared by plotting. The `grid` variable has an attribute `cv_results_`, which is a dictionary of key value pairs and stores the cross validation accuracy for each parameter."
      ]
    },
    {
      "cell_type": "code",
      "execution_count": 7,
      "metadata": {
        "colab": {
          "base_uri": "https://localhost:8080/",
          "height": 297
        },
        "id": "SDvzWvNhO0JE",
        "outputId": "f423b441-1367-4711-c6ea-45f66df75458"
      },
      "outputs": [
        {
          "output_type": "execute_result",
          "data": {
            "text/plain": [
              "<matplotlib.lines.Line2D at 0x7fe2b67a6850>"
            ]
          },
          "metadata": {},
          "execution_count": 7
        },
        {
          "output_type": "display_data",
          "data": {
            "text/plain": [
              "<Figure size 432x288 with 1 Axes>"
            ],
            "image/png": "[encoded data removed]"
          },
          "metadata": {
            "needs_background": "light"
          }
        }
      ],
      "source": [
        "# Plots mean_test_scores vs. total neighbors\n",
        "plt.plot(\n",
        "    param,\n",
        "    grid.cv_results_['mean_test_score'])\n",
        "\n",
        "# Adds labels to the plot\n",
        "plt.xticks(param)\n",
        "plt.ylabel('Mean CV Score')\n",
        "plt.xlabel('n_neighbors')\n",
        "\n",
        "# Draws a vertical line where the best model is\n",
        "plt.axvline(\n",
        "    x=best_knn.n_neighbors, \n",
        "    color='red', \n",
        "    ls='--')"
      ]
    },
    {
      "cell_type": "markdown",
      "metadata": {
        "id": "w5MaeZRZO0JE"
      },
      "source": [
        "# TEST MODEL\n",
        "In this phase, we'll evaluate the accuracy of the trained kNN model on the test set. A good evaluation measure is the `confusion matrix` that gives the fraction of true positives, true negatives, false positives, and false negatives.\n",
        "\n",
        "## Visualize the Confusion Matrix\n",
        "\n",
        "Normalize the scores to display as proportions across rows."
      ]
    },
    {
      "cell_type": "code",
      "execution_count": 8,
      "metadata": {
        "colab": {
          "base_uri": "https://localhost:8080/",
          "height": 350
        },
        "id": "gZ-n_-JVO0JE",
        "outputId": "0c254875-d6aa-495c-e082-4f61dce5c791"
      },
      "outputs": [
        {
          "output_type": "stream",
          "name": "stderr",
          "text": [
            "/usr/local/lib/python3.7/dist-packages/sklearn/utils/deprecation.py:87: FutureWarning: Function plot_confusion_matrix is deprecated; Function `plot_confusion_matrix` is deprecated in 1.0 and will be removed in 1.2. Use one of the class methods: ConfusionMatrixDisplay.from_predictions or ConfusionMatrixDisplay.from_estimator.\n",
            "  warnings.warn(msg, category=FutureWarning)\n"
          ]
        },
        {
          "output_type": "execute_result",
          "data": {
            "text/plain": [
              "<sklearn.metrics._plot.confusion_matrix.ConfusionMatrixDisplay at 0x7fe2b3ec6cd0>"
            ]
          },
          "metadata": {},
          "execution_count": 8
        },
        {
          "output_type": "display_data",
          "data": {
            "text/plain": [
              "<Figure size 432x288 with 2 Axes>"
            ],
            "image/png": "[encoded data removed]"
          },
          "metadata": {
            "needs_background": "light"
          }
        }
      ],
      "source": [
        "plot_confusion_matrix(\n",
        "    best_knn, X_tst, y_tst,\n",
        "    display_labels=diagnosis,\n",
        "    normalize='true')"
      ]
    },
    {
      "cell_type": "markdown",
      "metadata": {
        "id": "x6HwYETLO0JF"
      },
      "source": [
        "## Calculate Mean Accuracy on Testing Data"
      ]
    },
    {
      "cell_type": "code",
      "execution_count": 9,
      "metadata": {
        "colab": {
          "base_uri": "https://localhost:8080/"
        },
        "id": "9fPOOfIAO0JF",
        "outputId": "23184371-98db-4a5d-9048-60da3ebaaa69"
      },
      "outputs": [
        {
          "output_type": "stream",
          "name": "stdout",
          "text": [
            "Accuracy on testing data: 96.10%\n"
          ]
        }
      ],
      "source": [
        "print(\n",
        "    'Accuracy on testing data: ' \n",
        "    + str(\"{:.2%}\".format(best_knn.score(X_tst, y_tst))))"
      ]
    },
    {
      "cell_type": "markdown",
      "metadata": {
        "id": "0CSHAyqeO0JF"
      },
      "source": [
        "# CLEAN UP\n",
        "\n",
        "- If desired, clear the results with Cell > All Output > Clear. \n",
        "- Save your work by selecting File > Save and Checkpoint.\n",
        "- Shut down the Python kernel and close the file by selecting File > Close and Halt."
      ]
    }
  ],
  "metadata": {
    "kernelspec": {
      "display_name": "Python 3",
      "language": "python",
      "name": "python3"
    },
    "language_info": {
      "codemirror_mode": {
        "name": "ipython",
        "version": 3
      },
      "file_extension": ".py",
      "mimetype": "text/x-python",
      "name": "python",
      "nbconvert_exporter": "python",
      "pygments_lexer": "ipython3",
      "version": "3.7.9"
    },
    "colab": {
      "name": "kNNSolution.ipynb",
      "provenance": [],
      "include_colab_link": true
    }
  },
  "nbformat": 4,
  "nbformat_minor": 0
}