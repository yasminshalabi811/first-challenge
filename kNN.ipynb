{
  "cells": [
    {
      "cell_type": "markdown",
      "metadata": {
        "id": "view-in-github",
        "colab_type": "text"
      },
      "source": [
        "<a href=\"https://colab.research.google.com/github/yasminshalabi811/first-challenge/blob/main/kNN.ipynb\" target=\"_parent\"><img src=\"https://colab.research.google.com/assets/colab-badge.svg\" alt=\"Open In Colab\"/></a>"
      ]
    },
    {
      "cell_type": "markdown",
      "metadata": {
        "id": "fVIEke85G7Wp"
      },
      "source": [
        "# k-NEAREST NEIGHBORS\n",
        "\n",
        "**File:** kNN.ipynb\n",
        "\n",
        "**Course:** Data Science Foundations: Data Mining in Python"
      ]
    },
    {
      "cell_type": "markdown",
      "metadata": {
        "id": "mEZ1aDZkG7Wt"
      },
      "source": [
        "# IMPORT LIBRARIES"
      ]
    },
    {
      "cell_type": "code",
      "execution_count": 1,
      "metadata": {
        "id": "BxlvmlRiG7Wu"
      },
      "outputs": [],
      "source": [
        "import matplotlib.pyplot as plt                      # For plotting data\n",
        "import seaborn as sns                                # For plotting data\n",
        "import pandas as pd                                  # For dataframes\n",
        "from sklearn.model_selection import GridSearchCV     # For parameter optimization\n",
        "from sklearn.neighbors import KNeighborsClassifier   # For kNN classification\n",
        "from sklearn.metrics import plot_confusion_matrix    # Evaluation measure"
      ]
    },
    {
      "cell_type": "markdown",
      "metadata": {
        "id": "FhEc9QVNG7Wv"
      },
      "source": [
        "# LOAD AND PREPARE DATA\n",
        "Load the training data `trn` and testing data `tst` from the CSV files in the data directory. Separate the data matrix from the class variable."
      ]
    },
    {
      "cell_type": "code",
      "execution_count": 6,
      "metadata": {
        "id": "uj-9N5EmG7Ww"
      },
      "outputs": [],
      "source": [
        "# Imports the training data\n",
        "trn = pd.read_csv('spambase_trn.csv')\n",
        "\n",
        "# Separates the attributes X0-X56 into X_trn\n",
        "X_trn = trn.filter(regex='\\d')\n",
        "\n",
        "# Separates the class variable into y_trn\n",
        "y_trn = trn.y\n",
        "\n",
        "# Imports the testing data\n",
        "tst = pd.read_csv('spambase_tst.csv')\n",
        "\n",
        "# Separates the attributes X0-X56 into X_tst\n",
        "X_tst = tst.filter(regex='\\d')\n",
        "\n",
        "# Separates the class variable into y_tst\n",
        "y_tst = tst.y\n",
        "\n",
        "# Class labels\n",
        "spam = ['Not Spam','Spam']"
      ]
    },
    {
      "cell_type": "markdown",
      "metadata": {
        "id": "ZhjHNzvJG7Ww"
      },
      "source": [
        "Look at the first few rows of the training data."
      ]
    },
    {
      "cell_type": "code",
      "execution_count": 7,
      "metadata": {
        "colab": {
          "base_uri": "https://localhost:8080/",
          "height": 236
        },
        "id": "o0mSisL0G7Wx",
        "outputId": "0be18578-ae57-4244-c4ce-99e4afb8ee36"
      },
      "outputs": [
        {
          "output_type": "execute_result",
          "data": {
            "text/plain": [
              "    X0    X1    X2   X3   X4   X5    X6    X7    X8    X9  ...    X48    X49  \\\n",
              "0  0.0  0.17  0.00  0.0  0.0  0.0  0.17  0.52  0.00  0.17  ...  0.029  0.147   \n",
              "1  0.7  0.00  1.06  0.0  0.0  0.0  0.00  1.41  0.35  0.35  ...  0.000  0.117   \n",
              "2  0.0  0.00  1.58  0.0  0.0  0.0  0.00  0.00  0.00  0.00  ...  0.000  0.149   \n",
              "3  0.0  0.00  0.00  0.0  0.0  0.0  0.00  0.00  0.00  2.56  ...  0.000  0.194   \n",
              "4  0.0  0.00  0.00  0.0  0.0  0.0  0.00  0.00  0.00  0.00  ...  0.000  0.000   \n",
              "\n",
              "     X50    X51    X52    X53    X54  X55  X56  y  \n",
              "0  0.029  0.117  0.058  0.235  3.521   39  419  1  \n",
              "1  0.000  0.353  0.000  0.000  1.209   13  196  1  \n",
              "2  0.000  0.149  0.000  0.000  1.482   10   43  0  \n",
              "3  0.194  0.000  0.000  0.000  3.631   17   69  0  \n",
              "4  0.000  0.000  0.000  0.000  1.000    1    3  0  \n",
              "\n",
              "[5 rows x 58 columns]"
            ],
            "text/html": [
              "\n",
              "  <div id=\"df-302c9398-2e64-44b3-bf6d-98aa70726413\">\n",
              "    <div class=\"colab-df-container\">\n",
              "      <div>\n",
              "<style scoped>\n",
              "    .dataframe tbody tr th:only-of-type {\n",
              "        vertical-align: middle;\n",
              "    }\n",
              "\n",
              "    .dataframe tbody tr th {\n",
              "        vertical-align: top;\n",
              "    }\n",
              "\n",
              "    .dataframe thead th {\n",
              "        text-align: right;\n",
              "    }\n",
              "</style>\n",
              "<table border=\"1\" class=\"dataframe\">\n",
              "  <thead>\n",
              "    <tr style=\"text-align: right;\">\n",
              "      <th></th>\n",
              "      <th>X0</th>\n",
              "      <th>X1</th>\n",
              "      <th>X2</th>\n",
              "      <th>X3</th>\n",
              "      <th>X4</th>\n",
              "      <th>X5</th>\n",
              "      <th>X6</th>\n",
              "      <th>X7</th>\n",
              "      <th>X8</th>\n",
              "      <th>X9</th>\n",
              "      <th>...</th>\n",
              "      <th>X48</th>\n",
              "      <th>X49</th>\n",
              "      <th>X50</th>\n",
              "      <th>X51</th>\n",
              "      <th>X52</th>\n",
              "      <th>X53</th>\n",
              "      <th>X54</th>\n",
              "      <th>X55</th>\n",
              "      <th>X56</th>\n",
              "      <th>y</th>\n",
              "    </tr>\n",
              "  </thead>\n",
              "  <tbody>\n",
              "    <tr>\n",
              "      <th>0</th>\n",
              "      <td>0.0</td>\n",
              "      <td>0.17</td>\n",
              "      <td>0.00</td>\n",
              "      <td>0.0</td>\n",
              "      <td>0.0</td>\n",
              "      <td>0.0</td>\n",
              "      <td>0.17</td>\n",
              "      <td>0.52</td>\n",
              "      <td>0.00</td>\n",
              "      <td>0.17</td>\n",
              "      <td>...</td>\n",
              "      <td>0.029</td>\n",
              "      <td>0.147</td>\n",
              "      <td>0.029</td>\n",
              "      <td>0.117</td>\n",
              "      <td>0.058</td>\n",
              "      <td>0.235</td>\n",
              "      <td>3.521</td>\n",
              "      <td>39</td>\n",
              "      <td>419</td>\n",
              "      <td>1</td>\n",
              "    </tr>\n",
              "    <tr>\n",
              "      <th>1</th>\n",
              "      <td>0.7</td>\n",
              "      <td>0.00</td>\n",
              "      <td>1.06</td>\n",
              "      <td>0.0</td>\n",
              "      <td>0.0</td>\n",
              "      <td>0.0</td>\n",
              "      <td>0.00</td>\n",
              "      <td>1.41</td>\n",
              "      <td>0.35</td>\n",
              "      <td>0.35</td>\n",
              "      <td>...</td>\n",
              "      <td>0.000</td>\n",
              "      <td>0.117</td>\n",
              "      <td>0.000</td>\n",
              "      <td>0.353</td>\n",
              "      <td>0.000</td>\n",
              "      <td>0.000</td>\n",
              "      <td>1.209</td>\n",
              "      <td>13</td>\n",
              "      <td>196</td>\n",
              "      <td>1</td>\n",
              "    </tr>\n",
              "    <tr>\n",
              "      <th>2</th>\n",
              "      <td>0.0</td>\n",
              "      <td>0.00</td>\n",
              "      <td>1.58</td>\n",
              "      <td>0.0</td>\n",
              "      <td>0.0</td>\n",
              "      <td>0.0</td>\n",
              "      <td>0.00</td>\n",
              "      <td>0.00</td>\n",
              "      <td>0.00</td>\n",
              "      <td>0.00</td>\n",
              "      <td>...</td>\n",
              "      <td>0.000</td>\n",
              "      <td>0.149</td>\n",
              "      <td>0.000</td>\n",
              "      <td>0.149</td>\n",
              "      <td>0.000</td>\n",
              "      <td>0.000</td>\n",
              "      <td>1.482</td>\n",
              "      <td>10</td>\n",
              "      <td>43</td>\n",
              "      <td>0</td>\n",
              "    </tr>\n",
              "    <tr>\n",
              "      <th>3</th>\n",
              "      <td>0.0</td>\n",
              "      <td>0.00</td>\n",
              "      <td>0.00</td>\n",
              "      <td>0.0</td>\n",
              "      <td>0.0</td>\n",
              "      <td>0.0</td>\n",
              "      <td>0.00</td>\n",
              "      <td>0.00</td>\n",
              "      <td>0.00</td>\n",
              "      <td>2.56</td>\n",
              "      <td>...</td>\n",
              "      <td>0.000</td>\n",
              "      <td>0.194</td>\n",
              "      <td>0.194</td>\n",
              "      <td>0.000</td>\n",
              "      <td>0.000</td>\n",
              "      <td>0.000</td>\n",
              "      <td>3.631</td>\n",
              "      <td>17</td>\n",
              "      <td>69</td>\n",
              "      <td>0</td>\n",
              "    </tr>\n",
              "    <tr>\n",
              "      <th>4</th>\n",
              "      <td>0.0</td>\n",
              "      <td>0.00</td>\n",
              "      <td>0.00</td>\n",
              "      <td>0.0</td>\n",
              "      <td>0.0</td>\n",
              "      <td>0.0</td>\n",
              "      <td>0.00</td>\n",
              "      <td>0.00</td>\n",
              "      <td>0.00</td>\n",
              "      <td>0.00</td>\n",
              "      <td>...</td>\n",
              "      <td>0.000</td>\n",
              "      <td>0.000</td>\n",
              "      <td>0.000</td>\n",
              "      <td>0.000</td>\n",
              "      <td>0.000</td>\n",
              "      <td>0.000</td>\n",
              "      <td>1.000</td>\n",
              "      <td>1</td>\n",
              "      <td>3</td>\n",
              "      <td>0</td>\n",
              "    </tr>\n",
              "  </tbody>\n",
              "</table>\n",
              "<p>5 rows × 58 columns</p>\n",
              "</div>\n",
              "      <button class=\"colab-df-convert\" onclick=\"convertToInteractive('df-302c9398-2e64-44b3-bf6d-98aa70726413')\"\n",
              "              title=\"Convert this dataframe to an interactive table.\"\n",
              "              style=\"display:none;\">\n",
              "        \n",
              "  <svg xmlns=\"http://www.w3.org/2000/svg\" height=\"24px\"viewBox=\"0 0 24 24\"\n",
              "       width=\"24px\">\n",
              "    <path d=\"M0 0h24v24H0V0z\" fill=\"none\"/>\n",
              "    <path d=\"M18.56 5.44l.94 2.06.94-2.06 2.06-.94-2.06-.94-.94-2.06-.94 2.06-2.06.94zm-11 1L8.5 8.5l.94-2.06 2.06-.94-2.06-.94L8.5 2.5l-.94 2.06-2.06.94zm10 10l.94 2.06.94-2.06 2.06-.94-2.06-.94-.94-2.06-.94 2.06-2.06.94z\"/><path d=\"M17.41 7.96l-1.37-1.37c-.4-.4-.92-.59-1.43-.59-.52 0-1.04.2-1.43.59L10.3 9.45l-7.72 7.72c-.78.78-.78 2.05 0 2.83L4 21.41c.39.39.9.59 1.41.59.51 0 1.02-.2 1.41-.59l7.78-7.78 2.81-2.81c.8-.78.8-2.07 0-2.86zM5.41 20L4 18.59l7.72-7.72 1.47 1.35L5.41 20z\"/>\n",
              "  </svg>\n",
              "      </button>\n",
              "      \n",
              "  <style>\n",
              "    .colab-df-container {\n",
              "      display:flex;\n",
              "      flex-wrap:wrap;\n",
              "      gap: 12px;\n",
              "    }\n",
              "\n",
              "    .colab-df-convert {\n",
              "      background-color: #E8F0FE;\n",
              "      border: none;\n",
              "      border-radius: 50%;\n",
              "      cursor: pointer;\n",
              "      display: none;\n",
              "      fill: #1967D2;\n",
              "      height: 32px;\n",
              "      padding: 0 0 0 0;\n",
              "      width: 32px;\n",
              "    }\n",
              "\n",
              "    .colab-df-convert:hover {\n",
              "      background-color: #E2EBFA;\n",
              "      box-shadow: 0px 1px 2px rgba(60, 64, 67, 0.3), 0px 1px 3px 1px rgba(60, 64, 67, 0.15);\n",
              "      fill: #174EA6;\n",
              "    }\n",
              "\n",
              "    [theme=dark] .colab-df-convert {\n",
              "      background-color: #3B4455;\n",
              "      fill: #D2E3FC;\n",
              "    }\n",
              "\n",
              "    [theme=dark] .colab-df-convert:hover {\n",
              "      background-color: #434B5C;\n",
              "      box-shadow: 0px 1px 3px 1px rgba(0, 0, 0, 0.15);\n",
              "      filter: drop-shadow(0px 1px 2px rgba(0, 0, 0, 0.3));\n",
              "      fill: #FFFFFF;\n",
              "    }\n",
              "  </style>\n",
              "\n",
              "      <script>\n",
              "        const buttonEl =\n",
              "          document.querySelector('#df-302c9398-2e64-44b3-bf6d-98aa70726413 button.colab-df-convert');\n",
              "        buttonEl.style.display =\n",
              "          google.colab.kernel.accessAllowed ? 'block' : 'none';\n",
              "\n",
              "        async function convertToInteractive(key) {\n",
              "          const element = document.querySelector('#df-302c9398-2e64-44b3-bf6d-98aa70726413');\n",
              "          const dataTable =\n",
              "            await google.colab.kernel.invokeFunction('convertToInteractive',\n",
              "                                                     [key], {});\n",
              "          if (!dataTable) return;\n",
              "\n",
              "          const docLinkHtml = 'Like what you see? Visit the ' +\n",
              "            '<a target=\"_blank\" href=https://colab.research.google.com/notebooks/data_table.ipynb>data table notebook</a>'\n",
              "            + ' to learn more about interactive tables.';\n",
              "          element.innerHTML = '';\n",
              "          dataTable['output_type'] = 'display_data';\n",
              "          await google.colab.output.renderOutput(dataTable, element);\n",
              "          const docLink = document.createElement('div');\n",
              "          docLink.innerHTML = docLinkHtml;\n",
              "          element.appendChild(docLink);\n",
              "        }\n",
              "      </script>\n",
              "    </div>\n",
              "  </div>\n",
              "  "
            ]
          },
          "metadata": {},
          "execution_count": 7
        }
      ],
      "source": [
        "trn.head()"
      ]
    },
    {
      "cell_type": "markdown",
      "metadata": {
        "id": "0IqR1wFsG7Wy"
      },
      "source": [
        "# kNN: TRAIN MODEL\n",
        "To train a kNN model, set up a `KNeighborsClassifier` object and fit it to training data."
      ]
    },
    {
      "cell_type": "code",
      "execution_count": 8,
      "metadata": {
        "id": "yJbIG5JGG7Wy"
      },
      "outputs": [],
      "source": [
        "# Sets up a kNN model and fits it to data\n",
        "knn = KNeighborsClassifier(n_neighbors=5) \\\n",
        "    .fit(X_trn, y_trn)"
      ]
    },
    {
      "cell_type": "markdown",
      "metadata": {
        "id": "xSVZFRMxG7Wz"
      },
      "source": [
        "## Calculate Mean Accuracy on Training Data"
      ]
    },
    {
      "cell_type": "code",
      "execution_count": 9,
      "metadata": {
        "colab": {
          "base_uri": "https://localhost:8080/"
        },
        "id": "GL_YUjxfG7W0",
        "outputId": "6bccc339-8e2a-4edb-b763-bc3698931378"
      },
      "outputs": [
        {
          "output_type": "stream",
          "name": "stdout",
          "text": [
            "Accuracy on training data: 86.77%\n"
          ]
        }
      ],
      "source": [
        "print(\n",
        "    'Accuracy on training data: ' \n",
        "    + str(\"{:.2%}\".format(knn.score(X_trn, y_trn))))"
      ]
    },
    {
      "cell_type": "markdown",
      "metadata": {
        "id": "P4jUmD3CG7W0"
      },
      "source": [
        "## Optimize the kNN Model\n",
        "The challenge in training a kNN model is to determine the optimal number of neighbors. To find the optimal parameters, `GridSearchCV` object can be used."
      ]
    },
    {
      "cell_type": "code",
      "execution_count": 10,
      "metadata": {
        "colab": {
          "base_uri": "https://localhost:8080/"
        },
        "id": "C3kCQZgbG7W1",
        "outputId": "605c8709-a6cb-4545-94fb-f16445fc66ed"
      },
      "outputs": [
        {
          "output_type": "execute_result",
          "data": {
            "text/plain": [
              "{'algorithm': 'auto',\n",
              " 'leaf_size': 30,\n",
              " 'metric': 'minkowski',\n",
              " 'metric_params': None,\n",
              " 'n_jobs': None,\n",
              " 'n_neighbors': 3,\n",
              " 'p': 2,\n",
              " 'weights': 'uniform'}"
            ]
          },
          "metadata": {},
          "execution_count": 10
        }
      ],
      "source": [
        "# Sets up the kNN classifier object\n",
        "knn = KNeighborsClassifier() \n",
        "\n",
        "# Search parameters\n",
        "param = range(3, 15, 2)\n",
        "\n",
        "# Sets up GridSearchCV object and stores it in grid variable\n",
        "grid = GridSearchCV(\n",
        "    knn,\n",
        "    {'n_neighbors': param})\n",
        "\n",
        "# Fits the grid object and gets the best model\n",
        "best_knn = grid \\\n",
        "    .fit(X_trn,y_trn) \\\n",
        "    .best_estimator_\n",
        "\n",
        "# Displays the optimum model\n",
        "best_knn.get_params()"
      ]
    },
    {
      "cell_type": "markdown",
      "metadata": {
        "id": "7QKaZx-oG7W1"
      },
      "source": [
        "## Plot the Accuracy by Neighbors Parameter\n",
        "Once the optimal parameters are found, the accuracy for different parameters can be compared by plotting. The `grid` variable has an attribute `cv_results_`, which is a dictionary of key value pairs and stores the cross validation accuracy for each parameter."
      ]
    },
    {
      "cell_type": "code",
      "execution_count": 11,
      "metadata": {
        "colab": {
          "base_uri": "https://localhost:8080/",
          "height": 297
        },
        "id": "vXK8mvkhG7W2",
        "outputId": "e6787245-9ca3-454d-f4fc-73a7531cc65a"
      },
      "outputs": [
        {
          "output_type": "execute_result",
          "data": {
            "text/plain": [
              "<matplotlib.lines.Line2D at 0x7faeced6fc90>"
            ]
          },
          "metadata": {},
          "execution_count": 11
        },
        {
          "output_type": "display_data",
          "data": {
            "text/plain": [
              "<Figure size 432x288 with 1 Axes>"
            ],
            "image/png": "[encoded data removed]"
          },
          "metadata": {
            "needs_background": "light"
          }
        }
      ],
      "source": [
        "# Plots mean_test_scores vs. total neighbors\n",
        "plt.plot(\n",
        "    param,\n",
        "    grid.cv_results_['mean_test_score'])\n",
        "\n",
        "# Adds labels to the plot\n",
        "plt.xticks(param)\n",
        "plt.ylabel('Mean CV Score')\n",
        "plt.xlabel('n_neighbors')\n",
        "\n",
        "# Draws a vertical line where the best model is\n",
        "plt.axvline(\n",
        "    x=best_knn.n_neighbors, \n",
        "    color='red', \n",
        "    ls='--')"
      ]
    },
    {
      "cell_type": "markdown",
      "metadata": {
        "id": "Quz38sbYG7W2"
      },
      "source": [
        "# TEST MODEL\n",
        "In this phase, we'll evaluate the accuracy of the trained kNN model on the test set. A good evaluation measure is the `confusion matrix` that gives the fraction of true positives, true negatives, false positives, and false negatives.\n",
        "\n",
        "## Visualize the Confusion Matrix\n",
        "\n",
        "Normalize the scores to display as proportions across rows."
      ]
    },
    {
      "cell_type": "code",
      "execution_count": 12,
      "metadata": {
        "colab": {
          "base_uri": "https://localhost:8080/",
          "height": 350
        },
        "id": "jGniUaWbG7W3",
        "outputId": "5083a0cc-3d10-44f4-9ca2-437970c58809"
      },
      "outputs": [
        {
          "output_type": "stream",
          "name": "stderr",
          "text": [
            "/usr/local/lib/python3.7/dist-packages/sklearn/utils/deprecation.py:87: FutureWarning: Function plot_confusion_matrix is deprecated; Function `plot_confusion_matrix` is deprecated in 1.0 and will be removed in 1.2. Use one of the class methods: ConfusionMatrixDisplay.from_predictions or ConfusionMatrixDisplay.from_estimator.\n",
            "  warnings.warn(msg, category=FutureWarning)\n"
          ]
        },
        {
          "output_type": "execute_result",
          "data": {
            "text/plain": [
              "<sklearn.metrics._plot.confusion_matrix.ConfusionMatrixDisplay at 0x7faece883110>"
            ]
          },
          "metadata": {},
          "execution_count": 12
        },
        {
          "output_type": "display_data",
          "data": {
            "text/plain": [
              "<Figure size 432x288 with 2 Axes>"
            ],
            "image/png": "[encoded data removed]"
          },
          "metadata": {
            "needs_background": "light"
          }
        }
      ],
      "source": [
        "plot_confusion_matrix(\n",
        "    best_knn, X_tst, y_tst,\n",
        "    display_labels=spam,\n",
        "    normalize='true')"
      ]
    },
    {
      "cell_type": "markdown",
      "metadata": {
        "id": "F09sIpr2G7W3"
      },
      "source": [
        "## Calculate Mean Accuracy on Testing Data"
      ]
    },
    {
      "cell_type": "code",
      "execution_count": 13,
      "metadata": {
        "colab": {
          "base_uri": "https://localhost:8080/"
        },
        "id": "MSUuhIwCG7W3",
        "outputId": "981b24b4-91fc-43e5-89ec-42df16c01e15"
      },
      "outputs": [
        {
          "output_type": "stream",
          "name": "stdout",
          "text": [
            "Accuracy on testing data: 81.10%\n"
          ]
        }
      ],
      "source": [
        "print(\n",
        "    'Accuracy on testing data: ' \n",
        "    + str(\"{:.2%}\".format(best_knn.score(X_tst, y_tst))))"
      ]
    },
    {
      "cell_type": "markdown",
      "metadata": {
        "id": "QpZnh7M0G7W4"
      },
      "source": [
        "# CLEAN UP\n",
        "\n",
        "- If desired, clear the results with Cell > All Output > Clear. \n",
        "- Save your work by selecting File > Save and Checkpoint.\n",
        "- Shut down the Python kernel and close the file by selecting File > Close and Halt."
      ]
    }
  ],
  "metadata": {
    "kernelspec": {
      "display_name": "Python 3",
      "language": "python",
      "name": "python3"
    },
    "language_info": {
      "codemirror_mode": {
        "name": "ipython",
        "version": 3
      },
      "file_extension": ".py",
      "mimetype": "text/x-python",
      "name": "python",
      "nbconvert_exporter": "python",
      "pygments_lexer": "ipython3",
      "version": "3.7.9"
    },
    "colab": {
      "name": "kNN.ipynb",
      "provenance": [],
      "collapsed_sections": [],
      "include_colab_link": true
    }
  },
  "nbformat": 4,
  "nbformat_minor": 0
}